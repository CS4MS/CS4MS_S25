{
 "cells": [
  {
   "cell_type": "markdown",
   "id": "ejXAIS11L1TC",
   "metadata": {
    "id": "ejXAIS11L1TC"
   },
   "source": [
    "\n",
    "# Exercise 6: Metrics and Object Oriented Programming\n",
    "\n",
    "Object oriented programming (OOP) is a popular programming paradigm.  \n",
    "It is based on the idea of 'objects', that have attributes and methods to handle data.  \n",
    "\n",
    "Before you start, please get familiar with the basic concept of OOP by looking at some of the available resources online. \n",
    "If you search for object oriented programming with python on the internet, you will find tons of material, from short beginner tutorials to whole courses.  \n",
    "e.g. [this one](https://realpython.com/python3-object-oriented-programming/) or [this](https://www.codecademy.com/learn/learn-python/modules/learn-python-introduction-to-classes-u)\n",
    "\n"
   ]
  },
  {
   "cell_type": "code",
   "execution_count": null,
   "id": "PUF4agiBL1TF",
   "metadata": {
    "id": "PUF4agiBL1TF"
   },
   "outputs": [],
   "source": [
    "import numpy as np\n",
    "import matplotlib.pyplot as plt\n",
    "import pandas as pd"
   ]
  },
  {
   "cell_type": "markdown",
   "id": "D2y9t8q9L1TG",
   "metadata": {
    "id": "D2y9t8q9L1TG"
   },
   "source": [
    "The next cell shows an example of how sensitivity can be computed."
   ]
  },
  {
   "cell_type": "code",
   "execution_count": null,
   "id": "vBhUlhNLL1TH",
   "metadata": {
    "id": "vBhUlhNLL1TH"
   },
   "outputs": [],
   "source": [
    "def compute_sensitivity(x,y):\n",
    "    \"\"\"\n",
    "    Args:\n",
    "        x: one hot encoded vector of predictions\n",
    "        y: one hot encoded vector of ground truth\n",
    "    \"\"\"\n",
    "    if x.shape != y.shape:\n",
    "        raise ValueError(\"x and y should have the same shape.\")\n",
    "    \n",
    "    tp = ((x+y)==2).sum()\n",
    "    p = y.sum()\n",
    "    return tp/p\n",
    "    "
   ]
  },
  {
   "cell_type": "markdown",
   "id": "-EQz3VWSL1TI",
   "metadata": {
    "id": "-EQz3VWSL1TI"
   },
   "source": [
    "Lets define small vectors x and y and test the sensitivity function.  \n",
    "You can play around with the values in x and y vectors "
   ]
  },
  {
   "cell_type": "code",
   "execution_count": null,
   "id": "7xCwgEwtL1TI",
   "metadata": {
    "id": "7xCwgEwtL1TI"
   },
   "outputs": [],
   "source": [
    "x = np.array([1, 1, 0, 1])\n",
    "y = np.array([1, 1, 1, 0])\n",
    "compute_sensitivity(x,y)"
   ]
  },
  {
   "cell_type": "markdown",
   "id": "eWIgv8jPL1TJ",
   "metadata": {
    "id": "eWIgv8jPL1TJ"
   },
   "source": [
    "now let's define a function to compute precision in a similar fashion"
   ]
  },
  {
   "cell_type": "code",
   "execution_count": null,
   "id": "QFk_fiFyL1TK",
   "metadata": {
    "id": "QFk_fiFyL1TK"
   },
   "outputs": [],
   "source": [
    "def compute_precision(x,y):\n",
    "    \"\"\"\n",
    "    Args:\n",
    "        x: one hot encoded vector of predictions\n",
    "        y: one hot encoded vector of ground truth\n",
    "    \"\"\"\n",
    "    if x.shape != y.shape:\n",
    "        raise ValueError(\"x and y should have the same shape.\")\n",
    "    \n",
    "    tp = ((x+y)==2).sum()\n",
    "    fp = ((x-y)==1).sum()\n",
    "    return tp/(tp+fp)"
   ]
  },
  {
   "cell_type": "markdown",
   "id": "8LlBzKJvL1TL",
   "metadata": {
    "id": "8LlBzKJvL1TL"
   },
   "source": [
    "and let's test it with our example vectors:"
   ]
  },
  {
   "cell_type": "code",
   "execution_count": null,
   "id": "PO-Li8KgL1TL",
   "metadata": {
    "id": "PO-Li8KgL1TL"
   },
   "outputs": [],
   "source": [
    "compute_precision(x,y)"
   ]
  },
  {
   "cell_type": "markdown",
   "id": "EaV1WKyNL1TM",
   "metadata": {
    "id": "EaV1WKyNL1TM"
   },
   "source": [
    "You can see that both functions had to compute the false positives (tp), which is fine in this small example, but with very large multi-dimensional tensors would be inconvenient.\n",
    "Also, if you want to make changes to the calculation of tp you would have to do it in both functions.\n",
    "One solution would be to extract the true positive calculation into a new function, but in this exercise we want to focus on OOP.  \n",
    "\n",
    "Let's define a class ConfusionMatrix, that is initialized with our 2 vectors x and y and stores the values of tp, tn... as class attributes."
   ]
  },
  {
   "cell_type": "code",
   "execution_count": null,
   "id": "p6qR_UZEL1TM",
   "metadata": {
    "id": "p6qR_UZEL1TM"
   },
   "outputs": [],
   "source": [
    "class ConfusionMatrix():\n",
    "    def __init__(self, x, y):\n",
    "        \"\"\"\n",
    "        Args:\n",
    "            x: one hot encoded vector of predictions\n",
    "            y: one hot encoded vector of ground truth\n",
    "        \"\"\"\n",
    "        self.tp = ((x+y)==2).sum()\n",
    "        self.fp = ((x-y)==1).sum()\n",
    "        self.p = y.sum()\n"
   ]
  },
  {
   "cell_type": "markdown",
   "id": "AwUlTKLqL1TN",
   "metadata": {
    "id": "AwUlTKLqL1TN"
   },
   "source": [
    "now let's create an instance (object) of the class ConfusionMatrix:"
   ]
  },
  {
   "cell_type": "code",
   "execution_count": null,
   "id": "kQxR-Z6mL1TN",
   "metadata": {
    "id": "kQxR-Z6mL1TN"
   },
   "outputs": [],
   "source": [
    "cm = ConfusionMatrix(x,y)"
   ]
  },
  {
   "cell_type": "markdown",
   "id": "0-p_L8H-L1TN",
   "metadata": {
    "id": "0-p_L8H-L1TN"
   },
   "source": [
    "now we can have a look at the objects attributes:"
   ]
  },
  {
   "cell_type": "code",
   "execution_count": null,
   "id": "3rL-crGQL1TO",
   "metadata": {
    "id": "3rL-crGQL1TO"
   },
   "outputs": [],
   "source": [
    "print(cm.tp)\n",
    "print(cm.fp)"
   ]
  },
  {
   "cell_type": "markdown",
   "id": "mq3gq74EL1TO",
   "metadata": {
    "id": "mq3gq74EL1TO"
   },
   "source": [
    "We can also define some class methods, e.g. to compute sensitivity"
   ]
  },
  {
   "cell_type": "code",
   "execution_count": null,
   "id": "EL65wxQbL1TO",
   "metadata": {
    "id": "EL65wxQbL1TO"
   },
   "outputs": [],
   "source": [
    "class ConfusionMatrix():\n",
    "    def __init__(self, x, y):\n",
    "        \"\"\"\n",
    "        Args:\n",
    "            x: one hot encoded vector of predictions\n",
    "            y: one hot encoded vector of ground truth\n",
    "        \"\"\"\n",
    "        self.tp = ((x+y)==2).sum()\n",
    "        self.fp = ((x-y)==1).sum()\n",
    "        self.p = y.sum()\n",
    "    \n",
    "    def get_sensitivity(self):\n",
    "        return self.tp/self.p"
   ]
  },
  {
   "cell_type": "code",
   "execution_count": null,
   "id": "FjNE5q94L1TP",
   "metadata": {
    "id": "FjNE5q94L1TP"
   },
   "outputs": [],
   "source": [
    "cm = ConfusionMatrix(x,y)\n",
    "cm.get_sensitivity()"
   ]
  },
  {
   "cell_type": "markdown",
   "id": "W2xhZztlL1TP",
   "metadata": {
    "id": "W2xhZztlL1TP"
   },
   "source": [
    "\n",
    "### Homework:\n",
    "\n",
    "\n",
    "Now you can complete the class ConfusionMatrix by adding methods for specificity, precision and F1 score. Feel free to add more class attributes if needed.  \n",
    "The formulas to compute confusion matrix based metrics can be found in the lecture slides or: [Confusion matrix](https://en.wikipedia.org/wiki/Confusion_matrix)"
   ]
  },
  {
   "cell_type": "code",
   "execution_count": null,
   "id": "eHM-ec7SL1TQ",
   "metadata": {
    "id": "eHM-ec7SL1TQ"
   },
   "outputs": [],
   "source": [
    "### Homework complete the class ConfusionMatrix here\n",
    "class ConfusionMatrix():\n",
    "    def __init__(self, x, y):\n",
    "        self.tp = ((x+y)==2).sum()\n",
    "        self.fp = ((x-y)==1).sum()\n",
    "        self.p = y.sum()\n",
    "        self.tn = ((x+y)==0).sum() \n",
    "        self.fn = ((y-x)==1).sum()\n",
    "        self.fn = self.fn.sum()\n",
    "        \n",
    "    \n",
    "    def get_sensitivity(self):\n",
    "        return self.tp/self.p\n",
    "    \n",
    "    def get_specificity(self):\n",
    "        # fill here\n",
    "        return self.tn/(self.tn+self.fp)\n",
    "    \n",
    "    def get_precision(self):\n",
    "        # fill here\n",
    "        return self.tp/(self.tp+self.fp)\n",
    "    \n",
    "    def get_f1score(self):\n",
    "        # fill here\n",
    "        return (2*self.tp/(2*self.tp + self.fp + self.fn))"
   ]
  },
  {
   "cell_type": "markdown",
   "id": "0-ZfSJl1L1TQ",
   "metadata": {
    "id": "0-ZfSJl1L1TQ"
   },
   "source": [
    "Finally we want to use our ConfusionMatrix class to plot the ROC:  \n",
    "first we will load a .csv file with values for prediction and actual labels:"
   ]
  },
  {
   "cell_type": "code",
   "execution_count": null,
   "id": "bojbhOXxL1TQ",
   "metadata": {
    "id": "bojbhOXxL1TQ"
   },
   "outputs": [],
   "source": [
    "!wget https://github.com/CS4MS/CS4MS_S25/raw/main/data/sample_prediction.csv\n",
    "pred_df = pd.read_csv('sample_prediction.csv')\n",
    "\n",
    "pred_df"
   ]
  },
  {
   "cell_type": "markdown",
   "id": "Ul2GL0MCL1TR",
   "metadata": {
    "id": "Ul2GL0MCL1TR"
   },
   "source": [
    "the dataframe has 100 rows and 2 columns for actual values and prediction.  \n",
    "as you can see, the prediction values are floating point and not 0 or 1.  \n",
    "We need to define a threshold that decides if a prediction gets assigned to class 0 or 1.\n"
   ]
  },
  {
   "cell_type": "code",
   "execution_count": null,
   "id": "7B1we8VPL1TR",
   "metadata": {
    "id": "7B1we8VPL1TR"
   },
   "outputs": [],
   "source": [
    "threshold = 0.5\n",
    "# first let's turn the dataframe into separate numpy arrays\n",
    "actual = np.array(pred_df['actual'])\n",
    "pred = np.array(pred_df['prediction'])\n",
    "\n",
    "# now we can define a new array new_pred and set the numbers higher than the threshold to 1 and the ones lower to 0.\n",
    "new_pred = np.zeros_like(pred)\n",
    "new_pred[pred> threshold] = 1\n"
   ]
  },
  {
   "cell_type": "code",
   "execution_count": null,
   "id": "57XB_BihL1TS",
   "metadata": {
    "id": "57XB_BihL1TS"
   },
   "outputs": [],
   "source": [
    "# and we can compute our metrics with the confusion matrix:\n",
    "cm = ConfusionMatrix(new_pred,actual)\n",
    "print(cm.get_sensitivity())\n",
    "print(cm.get_specificity())\n",
    "print(cm.get_f1score())"
   ]
  },
  {
   "cell_type": "markdown",
   "id": "KrSFyesbL1TS",
   "metadata": {
    "id": "KrSFyesbL1TS"
   },
   "source": [
    "The threshold of 0.5 seems to have been a good choice. But what if we had used a different value?  \n"
   ]
  },
  {
   "cell_type": "code",
   "execution_count": null,
   "id": "VUXwdZkjL1TS",
   "metadata": {
    "id": "VUXwdZkjL1TS"
   },
   "outputs": [],
   "source": [
    "# for plotting the ROC we need to use multiple thresholds:\n",
    "# using numpy linspace we can create 100 evenly spaced numbers between 0 and 1:\n",
    "thresholds = np.linspace(0,1,100)\n",
    "#print(thresholds)"
   ]
  },
  {
   "cell_type": "markdown",
   "id": "0Mer_vo6L1TS",
   "metadata": {
    "id": "0Mer_vo6L1TS"
   },
   "source": [
    "\n",
    "### Homework\n",
    "\n",
    "use the thresholds to threshold the predictions, and then compute the metrics needed to plot the ROC.  \n",
    "you can use the lists below to store x and y values."
   ]
  },
  {
   "cell_type": "code",
   "execution_count": null,
   "id": "s4f4NFO_L1TT",
   "metadata": {
    "id": "s4f4NFO_L1TT"
   },
   "outputs": [],
   "source": [
    "y_values = [] \n",
    "x_values = []\n",
    "# put your code here:\n",
    "for threshold in thresholds:\n",
    "    new_pred = np.zeros_like(pred)\n",
    "    new_pred[pred>threshold] = 1\n",
    "    cm = ConfusionMatrix(new_pred,actual)\n",
    "    sens = cm.get_sensitivity()\n",
    "    spec = cm.get_specificity()\n",
    "    y_values.append(sens)\n",
    "    x_values.append(1-spec)"
   ]
  },
  {
   "cell_type": "markdown",
   "id": "t8mWvCGsL1TT",
   "metadata": {
    "id": "t8mWvCGsL1TT"
   },
   "source": [
    "now you can use the cell below to plot the ROC.  \n",
    "the dotted red line shows the ROC for a random classifier"
   ]
  },
  {
   "cell_type": "code",
   "execution_count": null,
   "id": "n72d4CDeL1TT",
   "metadata": {
    "id": "n72d4CDeL1TT"
   },
   "outputs": [],
   "source": [
    "# plot ROC curve\n",
    "plt.title('ROC')\n",
    "plt.plot(x_values,y_values, 'b')\n",
    "#plt.plot(roc_values)\n",
    "plt.plot([0, 1], [0, 1],'r--')\n",
    "plt.xlim([0, 1])\n",
    "plt.ylim([0, 1])\n",
    "plt.ylabel('Sensitivity')\n",
    "plt.xlabel('1-Specificity')\n",
    "plt.show()"
   ]
  },
  {
   "cell_type": "code",
   "execution_count": null,
   "id": "7SWHf2e7L1TU",
   "metadata": {
    "id": "7SWHf2e7L1TU"
   },
   "outputs": [],
   "source": []
  }
 ],
 "metadata": {
  "colab": {
   "provenance": []
  },
  "kernelspec": {
   "display_name": "Python 3 (ipykernel)",
   "language": "python",
   "name": "python3"
  },
  "language_info": {
   "codemirror_mode": {
    "name": "ipython",
    "version": 3
   },
   "file_extension": ".py",
   "mimetype": "text/x-python",
   "name": "python",
   "nbconvert_exporter": "python",
   "pygments_lexer": "ipython3",
   "version": "3.7.0"
  }
 },
 "nbformat": 4,
 "nbformat_minor": 5
}
